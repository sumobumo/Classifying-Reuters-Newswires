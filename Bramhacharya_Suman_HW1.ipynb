{
  "nbformat": 4,
  "nbformat_minor": 0,
  "metadata": {
    "kernelspec": {
      "display_name": "Python 3",
      "language": "python",
      "name": "python3"
    },
    "language_info": {
      "codemirror_mode": {
        "name": "ipython",
        "version": 3
      },
      "file_extension": ".py",
      "mimetype": "text/x-python",
      "name": "python",
      "nbconvert_exporter": "python",
      "pygments_lexer": "ipython3",
      "version": "3.5.2"
    },
    "colab": {
      "name": "HW1.ipynb",
      "provenance": [],
      "collapsed_sections": []
    }
  },
  "cells": [
    {
      "cell_type": "code",
      "metadata": {
        "id": "qhoHZ51HLihu",
        "colab_type": "code",
        "colab": {}
      },
      "source": [
        ""
      ],
      "execution_count": null,
      "outputs": []
    },
    {
      "cell_type": "markdown",
      "metadata": {
        "id": "86cHjRNnfDV2",
        "colab_type": "text"
      },
      "source": [
        "#MSBA 446 - Fall 2020\n",
        "##Homework 1\n",
        "\n"
      ]
    },
    {
      "cell_type": "markdown",
      "metadata": {
        "id": "RNjb8O5ec_66",
        "colab_type": "text"
      },
      "source": [
        "In this homework assignment, you are asked to develop a neural network model to classify Reuters newswires into 46 different mutually-exclusive topics. Each sample (news) belongs to one and only one category. You will need to use what you learned in the first two lectures to successfully complete this assignment. Please feel free to return to the MNIST and IMDb notebooks as there are many similarities between this homework assignment and the examples we reviewed in class. \n",
        "\n",
        "I wrote some code below to read the data into your notebook and to get you going. \n",
        "\n"
      ]
    },
    {
      "cell_type": "code",
      "metadata": {
        "id": "HaxhaG6D2oY_",
        "colab_type": "code",
        "colab": {}
      },
      "source": [
        "from tensorflow.keras import models\n",
        "from tensorflow.keras import layers\n",
        "import matplotlib.pyplot as plt\n",
        "\n",
        "\n",
        "from tensorflow.keras.datasets import reuters\n",
        "(train_data, train_labels), (test_data, test_labels) = reuters.load_data(num_words=10000)"
      ],
      "execution_count": 7,
      "outputs": []
    },
    {
      "cell_type": "markdown",
      "metadata": {
        "id": "_-azRxNFwtzG",
        "colab_type": "text"
      },
      "source": [
        "The words in the train and test datasets are already encoded into numbers (similar to our IMDb example). Each sample is a list of integers (word indices), thus has a different length. \n",
        "\n",
        "We can decode them back to words easily. Let's decode the 10th training sample."
      ]
    },
    {
      "cell_type": "code",
      "metadata": {
        "id": "TO9_RabF1ZrQ",
        "colab_type": "code",
        "colab": {
          "base_uri": "https://localhost:8080/",
          "height": 120
        },
        "outputId": "4c285ffa-e7ab-437c-94c0-1926da32a168"
      },
      "source": [
        "word_index = reuters.get_word_index()\n",
        "reverse_word_index = dict([(value, key) for (key, value) in word_index.items()])\n",
        "# Note that our indices were offset by 3\n",
        "# because 0, 1 and 2 are reserved indices for \"padding\", \"start of sequence\", and \"unknown\".\n",
        "decoded_newswire = ' '.join([reverse_word_index.get(i - 3, '?') for i in train_data[9]])\n",
        "decoded_newswire"
      ],
      "execution_count": 8,
      "outputs": [
        {
          "output_type": "execute_result",
          "data": {
            "application/vnd.google.colaboratory.intrinsic+json": {
              "type": "string"
            },
            "text/plain": [
              "'? lt aramco corp has accepted japanese ? to lift a higher proportion of arab heavy crude oil under term contracts in july oil industry sources said japanese companies requested a ratio of 80 pct arab heavy to 20 pct arab light under a term contract agreement with aramco for 100 000 barrels per day the sources said the contractual ratio is 30 pct heavy crude to 70 pct light japanese demand for heavy crude oil has increased substantially since the all japan ? union ceased ? into the northern mideast gulf last month causing problems with liftings of heavy kuwait and ? crudes reuter 3'"
            ]
          },
          "metadata": {
            "tags": []
          },
          "execution_count": 8
        }
      ]
    },
    {
      "cell_type": "markdown",
      "metadata": {
        "id": "_YewkjsT196B",
        "colab_type": "text"
      },
      "source": [
        "This particular news belongs to category 16 (out of 46 categories)."
      ]
    },
    {
      "cell_type": "code",
      "metadata": {
        "id": "yofAm_Gw1-PE",
        "colab_type": "code",
        "colab": {
          "base_uri": "https://localhost:8080/",
          "height": 34
        },
        "outputId": "ad0a4804-bd89-4484-b1ea-3a6dfc501d80"
      },
      "source": [
        "train_labels[9]"
      ],
      "execution_count": 9,
      "outputs": [
        {
          "output_type": "execute_result",
          "data": {
            "text/plain": [
              "16"
            ]
          },
          "metadata": {
            "tags": []
          },
          "execution_count": 9
        }
      ]
    },
    {
      "cell_type": "markdown",
      "metadata": {
        "id": "6184jIDa3cCc",
        "colab_type": "text"
      },
      "source": [
        "Your job is to conduct a comprehensive deep learning modeling: build neural network models, try to improve them, explain your analyses clearly, elaborate on your findings, etc.    \n",
        "\n",
        "1. Write code to see how many samples are in the train and test sets. (5 pts)\n",
        "2. Vectorize the train and test data using the 'one-hot-encoding' approach discussed in class. (5 pts)\n",
        "3. Vectorize the train and test labels the way it is appropriate for multi-class single-label classification. (5 pts)\n",
        "4. Develop an MLP with 2 hidden layers, each having 64 neurons with ReLU activation function. Also, include the appropriate output layer based on the classification task in hand. (5 pts)\n",
        "5. Compile the model. Use RMSProp optimizer with appropriate loss function, and follow the accuracy metric during training. (5 pts)\n",
        "6. Shuffle and set apart 1,000 samples in the training data to use as a validation set. (5 pts)\n",
        "7. Train the model for 20 epochs and use batches of size 512. Also, monitor the performance of the model on the validation set during training. Report the training and validation accuracy. (5 pts)\n",
        "8.  Evaluate the model on test set and report the test accuracy. Also, predict the class for the first sample in the test set. (5 pts)\n",
        "9. Use `model.summary()` to see how many trainable parameters your neural network model has. Explain why each layer has that many parameters? (5 pts)\n",
        "10. Plot the training and validation loss. Also, plot the training and validation accuracy. Interpret these plots: explain if you see any signs of overfitting. (10 pts)\n",
        "11. Try to improve the performance of your model using regularization methods. Try early stopping, a smaller (8 neurons per hidden layer) and a larger (256 neurons per hidden layer) network, L2 weight regularization (alpha=0.001), and dropout (p=0.1). Make sure to evaluate each model on the validation set, provide plots that help compare performance of alternative models, and interpret those plots. Eventually, pick one model as your final model. (40 pts)\n",
        "12. Evaluate your final model on the test set and report the test accuracy. How does it compare to the test accuracy you obtained from your first model in Step 8? (5 pts)"
      ]
    },
    {
      "cell_type": "markdown",
      "metadata": {
        "id": "uIwRkDQ_f11K",
        "colab_type": "text"
      },
      "source": [
        "Make sure you run all of your code so that the output of each code block appears below it.  Once you are done, download your final `.ipynb` file (File -> Download .ipynb) and submit it on Canvas. Name your file as follows: LastName_FirstName_HW1.ipynb"
      ]
    },
    {
      "cell_type": "markdown",
      "metadata": {
        "id": "w8w1rw5k9bbX",
        "colab_type": "text"
      },
      "source": [
        "**1. Write code to see how many samples are in the train and test sets. (5 pts)**"
      ]
    },
    {
      "cell_type": "code",
      "metadata": {
        "id": "5RSyJ1yq0MaQ",
        "colab_type": "code",
        "colab": {
          "base_uri": "https://localhost:8080/",
          "height": 51
        },
        "outputId": "d14e7f35-ef32-4a26-f622-768247ffbd74"
      },
      "source": [
        "# 1.Write code to see how many samples are in the train and test sets. (5 pts)\n",
        "\n",
        "print(\"Train:\", len(train_data))\n",
        "print(\"Test:\", len(test_data))\n"
      ],
      "execution_count": 36,
      "outputs": [
        {
          "output_type": "stream",
          "text": [
            "Train: 8982\n",
            "Test: 2246\n"
          ],
          "name": "stdout"
        }
      ]
    },
    {
      "cell_type": "markdown",
      "metadata": {
        "id": "jmYKQ9vX_mt-",
        "colab_type": "text"
      },
      "source": [
        "There are 8982 samples in the train set.\n",
        "\n",
        "There are 2246 samples in the train set"
      ]
    },
    {
      "cell_type": "markdown",
      "metadata": {
        "id": "6By6F5L79iwW",
        "colab_type": "text"
      },
      "source": [
        "**2.Vectorize the train and test data using the 'one-hot-encoding' approach discussed in class. (5 pts)**"
      ]
    },
    {
      "cell_type": "code",
      "metadata": {
        "id": "1GIoDOucFcpJ",
        "colab_type": "code",
        "colab": {
          "base_uri": "https://localhost:8080/",
          "height": 51
        },
        "outputId": "fa7df8ec-18ee-4e3f-b336-cc527d6585e7"
      },
      "source": [
        "# In order to decide the length of array for one hot encoding, finding out the maximum numeric value in train data and test data\n",
        "max_train = max([max(i) for i in train_data])\n",
        "max_test = max([max(i) for i in test_data])\n",
        "\n",
        "print(max_train)\n",
        "print(max_test)"
      ],
      "execution_count": 37,
      "outputs": [
        {
          "output_type": "stream",
          "text": [
            "9999\n",
            "9999\n"
          ],
          "name": "stdout"
        }
      ]
    },
    {
      "cell_type": "markdown",
      "metadata": {
        "id": "Bt4fFEqqOiIg",
        "colab_type": "text"
      },
      "source": [
        "9999 is the maximum encoded numeric value in both training set and testing set. So, array of size 10000 would be enough to one hot encode all training data and testing data. For labels, array of size 46 would be enough as there are 46 different mutually-exclusive topics. "
      ]
    },
    {
      "cell_type": "code",
      "metadata": {
        "id": "Bd9LWmvL0aeO",
        "colab_type": "code",
        "colab": {}
      },
      "source": [
        "import numpy as np\n",
        "\n",
        "def vectorize_sequences(sequences, dimension):\n",
        "    # Create an all-zero matrix of shape (len(sequences), dimension) ===> row by column matrix\n",
        "    results = np.zeros((len(sequences), dimension))\n",
        "    for i, sequence in enumerate(sequences):\n",
        "        results[i, sequence] = 1.  # set specific indices of results[i] to 1s. ==> x[0,[1,2,3]] = 1 will get list at index 0 and sets values at 1,2,3 index of that list to 1.\n",
        "    return results\n",
        "  \n",
        "# Our vectorized training data\n",
        "vectorized_train_data = vectorize_sequences(train_data, 10000)\n",
        "\n",
        "# Our vectorized testing data\n",
        "vectorized_test_data = vectorize_sequences(test_data, 10000) "
      ],
      "execution_count": 39,
      "outputs": []
    },
    {
      "cell_type": "markdown",
      "metadata": {
        "id": "jWXl7BYr-BHf",
        "colab_type": "text"
      },
      "source": [
        "**3. Vectorize the train and test labels the way it is appropriate for multi-class single-label classification. (5 pts)**"
      ]
    },
    {
      "cell_type": "code",
      "metadata": {
        "id": "Mxw2P9jw1vDS",
        "colab_type": "code",
        "colab": {}
      },
      "source": [
        "vectorized_train_labels = vectorize_sequences(train_labels, 46) #np.asarray(train_labels).astype('float32')\n",
        "vectorized_test_labels = vectorize_sequences(test_labels, 46) #np.asarray(test_labels).astype('float32')\n"
      ],
      "execution_count": 38,
      "outputs": []
    },
    {
      "cell_type": "markdown",
      "metadata": {
        "id": "eMJdiA7NGjmS",
        "colab_type": "text"
      },
      "source": [
        "It seems that it is necessary to one hot encode labels as well. "
      ]
    },
    {
      "cell_type": "markdown",
      "metadata": {
        "id": "IR0P0sqI-FIP",
        "colab_type": "text"
      },
      "source": [
        "**4. Develop an MLP with 2 hidden layers, each having 64 neurons with ReLU activation function. Also, include the appropriate output layer based on the classification task in hand. (5 pts)**\n"
      ]
    },
    {
      "cell_type": "code",
      "metadata": {
        "id": "kdpcGTM61wBw",
        "colab_type": "code",
        "colab": {}
      },
      "source": [
        "model1 = models.Sequential()\n",
        "model1.add(layers.Dense(64, activation = 'relu', input_shape = vectorized_train_data[0].shape)) # vectorized_train_data[0].shape = (10000,)\n",
        "model1.add(layers.Dense(64, activation = 'relu'))\n",
        "model1.add(layers.Dense(46, activation = 'softmax'))   # Output layer"
      ],
      "execution_count": 40,
      "outputs": []
    },
    {
      "cell_type": "markdown",
      "metadata": {
        "id": "ovdLwuj0aWSF",
        "colab_type": "text"
      },
      "source": [
        "Creating model with 2 hidden layers. Each have 64 neurons with ReLU activation function. There is 1 output layer and since it is a multiclass-single label classification problem, I'm using softmax as activation function. For first layer, we need to define input shape. Since we one hot encode data into array size of 10000, input shape will be (10000,). Input shape for rest of the layer is handled my neural network automaticlly."
      ]
    },
    {
      "cell_type": "markdown",
      "metadata": {
        "id": "aLzoFSBr-QkG",
        "colab_type": "text"
      },
      "source": [
        "**5.Compile the model. Use RMSProp optimizer with appropriate loss function, and follow the accuracy metric during training. (5 pts)**"
      ]
    },
    {
      "cell_type": "code",
      "metadata": {
        "id": "7fW46bDP10Ui",
        "colab_type": "code",
        "colab": {}
      },
      "source": [
        "model1.compile(optimizer = 'rmsprop',\n",
        "              loss = 'categorical_crossentropy',\n",
        "              metrics = 'accuracy')"
      ],
      "execution_count": 41,
      "outputs": []
    },
    {
      "cell_type": "markdown",
      "metadata": {
        "id": "YeR1AjuVAnzq",
        "colab_type": "text"
      },
      "source": [
        "Since it is a Multi-class single label classification, I'm using categorical_cross entropy for loss function."
      ]
    },
    {
      "cell_type": "markdown",
      "metadata": {
        "id": "X3j3ZBwc-VFm",
        "colab_type": "text"
      },
      "source": [
        "**6.Shuffle and set apart 1,000 samples in the training data to use as a validation set. (5 pts)**"
      ]
    },
    {
      "cell_type": "code",
      "metadata": {
        "id": "9qjNXCLO12tP",
        "colab_type": "code",
        "colab": {}
      },
      "source": [
        "from sklearn.utils import shuffle\n",
        "\n",
        "x_train, y_train = shuffle(vectorized_train_data, vectorized_train_labels)\n",
        "\n",
        "val_data = x_train[:1000]\n",
        "partial_train_data = x_train[1000:]\n",
        "\n",
        "val_labels = y_train[:1000]\n",
        "partial_train_labels = y_train[1000:]"
      ],
      "execution_count": 43,
      "outputs": []
    },
    {
      "cell_type": "markdown",
      "metadata": {
        "id": "YygmuiaI-aMR",
        "colab_type": "text"
      },
      "source": [
        "**7.Train the model for 20 epochs and use batches of size 512. Also, monitor the performance of the model on the validation set during training. \n",
        "Report the training and validation accuracy. (5 pts)**"
      ]
    },
    {
      "cell_type": "code",
      "metadata": {
        "id": "5KyJzUyf15BY",
        "colab_type": "code",
        "colab": {
          "base_uri": "https://localhost:8080/",
          "height": 717
        },
        "outputId": "9c382f8b-8046-4455-f6eb-d737007abe2a"
      },
      "source": [
        "history_model1 = model1.fit(partial_train_data,\n",
        "                    partial_train_labels,\n",
        "                    epochs=20,\n",
        "                    batch_size=512,\n",
        "                    validation_data=(val_data, val_labels))"
      ],
      "execution_count": 44,
      "outputs": [
        {
          "output_type": "stream",
          "text": [
            "Epoch 1/20\n",
            "16/16 [==============================] - 1s 52ms/step - loss: 2.7712 - accuracy: 0.5048 - val_loss: 1.7895 - val_accuracy: 0.6840\n",
            "Epoch 2/20\n",
            "16/16 [==============================] - 1s 44ms/step - loss: 1.4629 - accuracy: 0.7050 - val_loss: 1.2840 - val_accuracy: 0.7340\n",
            "Epoch 3/20\n",
            "16/16 [==============================] - 1s 45ms/step - loss: 1.0508 - accuracy: 0.7833 - val_loss: 1.1092 - val_accuracy: 0.7730\n",
            "Epoch 4/20\n",
            "16/16 [==============================] - 1s 44ms/step - loss: 0.8146 - accuracy: 0.8340 - val_loss: 1.0270 - val_accuracy: 0.7790\n",
            "Epoch 5/20\n",
            "16/16 [==============================] - 1s 45ms/step - loss: 0.6408 - accuracy: 0.8710 - val_loss: 0.9609 - val_accuracy: 0.7980\n",
            "Epoch 6/20\n",
            "16/16 [==============================] - 1s 47ms/step - loss: 0.5117 - accuracy: 0.8975 - val_loss: 0.9128 - val_accuracy: 0.8050\n",
            "Epoch 7/20\n",
            "16/16 [==============================] - 1s 46ms/step - loss: 0.4149 - accuracy: 0.9139 - val_loss: 0.8803 - val_accuracy: 0.8190\n",
            "Epoch 8/20\n",
            "16/16 [==============================] - 1s 47ms/step - loss: 0.3340 - accuracy: 0.9272 - val_loss: 0.9277 - val_accuracy: 0.8070\n",
            "Epoch 9/20\n",
            "16/16 [==============================] - 1s 48ms/step - loss: 0.2817 - accuracy: 0.9375 - val_loss: 0.8810 - val_accuracy: 0.8180\n",
            "Epoch 10/20\n",
            "16/16 [==============================] - 1s 47ms/step - loss: 0.2351 - accuracy: 0.9469 - val_loss: 0.8892 - val_accuracy: 0.8190\n",
            "Epoch 11/20\n",
            "16/16 [==============================] - 1s 45ms/step - loss: 0.2078 - accuracy: 0.9491 - val_loss: 0.8706 - val_accuracy: 0.8250\n",
            "Epoch 12/20\n",
            "16/16 [==============================] - 1s 44ms/step - loss: 0.1809 - accuracy: 0.9531 - val_loss: 0.9191 - val_accuracy: 0.8090\n",
            "Epoch 13/20\n",
            "16/16 [==============================] - 1s 46ms/step - loss: 0.1655 - accuracy: 0.9553 - val_loss: 0.9215 - val_accuracy: 0.8190\n",
            "Epoch 14/20\n",
            "16/16 [==============================] - 1s 46ms/step - loss: 0.1517 - accuracy: 0.9579 - val_loss: 1.0059 - val_accuracy: 0.8040\n",
            "Epoch 15/20\n",
            "16/16 [==============================] - 1s 46ms/step - loss: 0.1410 - accuracy: 0.9563 - val_loss: 0.9384 - val_accuracy: 0.8260\n",
            "Epoch 16/20\n",
            "16/16 [==============================] - 1s 45ms/step - loss: 0.1377 - accuracy: 0.9574 - val_loss: 0.9310 - val_accuracy: 0.8350\n",
            "Epoch 17/20\n",
            "16/16 [==============================] - 1s 44ms/step - loss: 0.1237 - accuracy: 0.9574 - val_loss: 1.0242 - val_accuracy: 0.8150\n",
            "Epoch 18/20\n",
            "16/16 [==============================] - 1s 48ms/step - loss: 0.1225 - accuracy: 0.9577 - val_loss: 1.0052 - val_accuracy: 0.8180\n",
            "Epoch 19/20\n",
            "16/16 [==============================] - 1s 54ms/step - loss: 0.1146 - accuracy: 0.9580 - val_loss: 1.0035 - val_accuracy: 0.8150\n",
            "Epoch 20/20\n",
            "16/16 [==============================] - 1s 64ms/step - loss: 0.1149 - accuracy: 0.9590 - val_loss: 1.0589 - val_accuracy: 0.8080\n"
          ],
          "name": "stdout"
        }
      ]
    },
    {
      "cell_type": "markdown",
      "metadata": {
        "id": "Yn5hgVqrG9aO",
        "colab_type": "text"
      },
      "source": [
        "After training model for 20 epoch, with batch size of 512, the model is 95.90% accurate on train data and 80.80% accurate on validation data. Loss score for training data drops quickly whereas for validation data it drops in the beginning but starts to increase after epoch 11. "
      ]
    },
    {
      "cell_type": "markdown",
      "metadata": {
        "id": "N0PeHXgW-eum",
        "colab_type": "text"
      },
      "source": [
        "**8.Evaluate the model on test set and report the test accuracy. Also, predict the class for the first sample in the test set. (5 pts)**"
      ]
    },
    {
      "cell_type": "code",
      "metadata": {
        "id": "KmkbH004175Q",
        "colab_type": "code",
        "colab": {
          "base_uri": "https://localhost:8080/",
          "height": 34
        },
        "outputId": "2cbdccbc-dc15-4bcf-8932-4080511c54ad"
      },
      "source": [
        "results = model1.evaluate(vectorized_test_data, vectorized_test_labels)\n",
        "\n"
      ],
      "execution_count": 48,
      "outputs": [
        {
          "output_type": "stream",
          "text": [
            "71/71 [==============================] - 0s 3ms/step - loss: 1.2189 - accuracy: 0.7850\n"
          ],
          "name": "stdout"
        }
      ]
    },
    {
      "cell_type": "markdown",
      "metadata": {
        "id": "uMidBISXXnyU",
        "colab_type": "text"
      },
      "source": [
        "Accuracy of the model on the test dataset is 78.50%."
      ]
    },
    {
      "cell_type": "code",
      "metadata": {
        "id": "Y-6QwL9WXxAu",
        "colab_type": "code",
        "colab": {
          "base_uri": "https://localhost:8080/",
          "height": 221
        },
        "outputId": "049fb141-30a9-40b5-c435-59b249c67537"
      },
      "source": [
        "predictions = model1.predict(vectorized_test_data)\n",
        "predictions[0]"
      ],
      "execution_count": 51,
      "outputs": [
        {
          "output_type": "execute_result",
          "data": {
            "text/plain": [
              "array([1.42609406e-06, 5.95780184e-05, 3.15181978e-07, 8.08386326e-01,\n",
              "       1.89557552e-01, 2.19180296e-09, 9.36500328e-07, 9.53567451e-06,\n",
              "       1.44830308e-04, 2.05952779e-06, 1.43114869e-06, 2.83725763e-04,\n",
              "       1.20428112e-07, 1.11019523e-04, 7.97263233e-09, 1.58521685e-09,\n",
              "       6.38316342e-05, 3.42743363e-07, 8.65239898e-08, 2.30563601e-04,\n",
              "       9.53584735e-04, 2.53475482e-05, 4.37872544e-10, 1.12342796e-07,\n",
              "       6.23964524e-07, 1.60618595e-06, 1.36215554e-08, 2.92055518e-07,\n",
              "       4.03801860e-05, 2.27032870e-05, 3.84417064e-07, 1.02186327e-07,\n",
              "       3.45772975e-07, 7.33920899e-07, 7.29441490e-06, 3.10072346e-06,\n",
              "       8.30973386e-06, 6.87852378e-07, 8.65314220e-08, 7.92310748e-05,\n",
              "       1.29915463e-06, 1.30663409e-07, 4.43308146e-09, 4.15452384e-08,\n",
              "       5.87933651e-12, 6.70362343e-09], dtype=float32)"
            ]
          },
          "metadata": {
            "tags": []
          },
          "execution_count": 51
        }
      ]
    },
    {
      "cell_type": "code",
      "metadata": {
        "id": "GLoEH9OfZUiU",
        "colab_type": "code",
        "colab": {
          "base_uri": "https://localhost:8080/",
          "height": 34
        },
        "outputId": "0d012114-e5d1-4798-fdbd-b55a23760a74"
      },
      "source": [
        "predictions[0].argmax()"
      ],
      "execution_count": 50,
      "outputs": [
        {
          "output_type": "execute_result",
          "data": {
            "text/plain": [
              "3"
            ]
          },
          "metadata": {
            "tags": []
          },
          "execution_count": 50
        }
      ]
    },
    {
      "cell_type": "markdown",
      "metadata": {
        "id": "HAzAdbdYXyZt",
        "colab_type": "text"
      },
      "source": [
        "The model predicts that the first sample in the test set belongs to category label 3 with 80.83% confidence. "
      ]
    },
    {
      "cell_type": "markdown",
      "metadata": {
        "id": "WRM4bclK-lLd",
        "colab_type": "text"
      },
      "source": [
        "**9.Use model.summary() to see how many trainable parameters your neural network model has. Explain why each layer has that many parameters? (5 pts)**"
      ]
    },
    {
      "cell_type": "code",
      "metadata": {
        "id": "YpFS_i-52ALf",
        "colab_type": "code",
        "colab": {
          "base_uri": "https://localhost:8080/",
          "height": 255
        },
        "outputId": "1b09dd29-92d3-4283-f953-a866ef98f836"
      },
      "source": [
        "model1.summary()"
      ],
      "execution_count": 52,
      "outputs": [
        {
          "output_type": "stream",
          "text": [
            "Model: \"sequential_5\"\n",
            "_________________________________________________________________\n",
            "Layer (type)                 Output Shape              Param #   \n",
            "=================================================================\n",
            "dense_15 (Dense)             (None, 64)                640064    \n",
            "_________________________________________________________________\n",
            "dense_16 (Dense)             (None, 64)                4160      \n",
            "_________________________________________________________________\n",
            "dense_17 (Dense)             (None, 46)                2990      \n",
            "=================================================================\n",
            "Total params: 647,214\n",
            "Trainable params: 647,214\n",
            "Non-trainable params: 0\n",
            "_________________________________________________________________\n"
          ],
          "name": "stdout"
        }
      ]
    },
    {
      "cell_type": "markdown",
      "metadata": {
        "id": "iC91HnwtYyzN",
        "colab_type": "text"
      },
      "source": [
        "The model has 647,214 trainable parameters. \n",
        "\n",
        "First layer: 10000*64+64. Size of each input is 10000 since we used one hot encoding with array length of 10000. we have 64 neurons in this layer and each has one bias term. So total of 64 biases. \n",
        "\n",
        "Second layer: 64*64+64. We have 64 outputs from first layer going in to second layer. Second layer contains 64 neurons. 64 neurons so there are 64 biases. \n",
        "\n",
        "Last layer: 64*46+46. We have 64 outputs from second layer going in to last layer with 46 neurons and 46 biases. "
      ]
    },
    {
      "cell_type": "markdown",
      "metadata": {
        "id": "Z2uLq0t--oyl",
        "colab_type": "text"
      },
      "source": [
        "**10.Plot the training and validation loss. Also, plot the training and validation accuracy. Interpret these plots: explain if you see any signs of overfitting. (10 pts)**"
      ]
    },
    {
      "cell_type": "code",
      "metadata": {
        "id": "A67ETl262CMA",
        "colab_type": "code",
        "colab": {
          "base_uri": "https://localhost:8080/",
          "height": 302
        },
        "outputId": "e69831d3-ef3f-463b-bf30-e3c2a479fe75"
      },
      "source": [
        "import seaborn as sns\n",
        "sns.set() \n",
        "\n",
        "train_acc1  = history_model1.history['accuracy']\n",
        "train_loss1 = history_model1.history['loss']\n",
        "val_acc1  = history_model1.history['val_accuracy']\n",
        "val_loss1 = history_model1.history['val_loss']\n",
        "\n",
        "epochs = range(1, len(train_acc1) + 1)\n",
        "\n",
        "plt.plot(epochs, train_loss1, label = 'Training Loss')\n",
        "plt.plot(epochs, val_loss1, label = 'Validation Loss')\n",
        "plt.xlabel('Epochs')\n",
        "plt.ylabel('Loss')\n",
        "plt.legend()\n"
      ],
      "execution_count": 53,
      "outputs": [
        {
          "output_type": "execute_result",
          "data": {
            "text/plain": [
              "<matplotlib.legend.Legend at 0x7fb133033ba8>"
            ]
          },
          "metadata": {
            "tags": []
          },
          "execution_count": 53
        },
        {
          "output_type": "display_data",
          "data": {
            "image/png": "[encoded data removed]",
            "text/plain": [
              "<Figure size 432x288 with 1 Axes>"
            ]
          },
          "metadata": {
            "tags": []
          }
        }
      ]
    },
    {
      "cell_type": "code",
      "metadata": {
        "id": "NGcG9PW1pwU2",
        "colab_type": "code",
        "colab": {
          "base_uri": "https://localhost:8080/",
          "height": 302
        },
        "outputId": "3528e422-1b17-4aa5-b2b8-caf60800a71e"
      },
      "source": [
        "plt.plot(epochs, train_acc1, label = 'Training Accuracy')\n",
        "plt.plot(epochs, val_acc1, label = 'Validation Accuracy')\n",
        "plt.xlabel('Epochs')\n",
        "plt.ylabel('Accuracy')\n",
        "plt.legend()"
      ],
      "execution_count": 54,
      "outputs": [
        {
          "output_type": "execute_result",
          "data": {
            "text/plain": [
              "<matplotlib.legend.Legend at 0x7fb13306eba8>"
            ]
          },
          "metadata": {
            "tags": []
          },
          "execution_count": 54
        },
        {
          "output_type": "display_data",
          "data": {
            "image/png": "[encoded data removed]",
            "text/plain": [
              "<Figure size 432x288 with 1 Axes>"
            ]
          },
          "metadata": {
            "tags": []
          }
        }
      ]
    },
    {
      "cell_type": "markdown",
      "metadata": {
        "id": "cFfbXKJV2K_D",
        "colab_type": "text"
      },
      "source": [
        "Here, in the trainig and validation loss plot, we see that training loss decreases with every epoch, whereas validation loss decreases till  epoch 6 (approx) and slowly starts increasing. \n",
        "\n",
        "Similarly, in training and validation accuracy plot, we see that training accuracy increases with each epoch, whereas validation accuracy increases till about epoch 6 and then starts to stay same with no improvement. \n",
        "\n",
        "While we see improvement in training loss and training accuracy over each epoch, we do not see similar improvement in validation loss and validation accuracy. We can say that there is no improvement in validation dataset after epoch 6 or epoch 7. This should be the stopping point of model training. Any extra iteration of training we do to the model will just contribute to overfitting. The above 2 graphs shows that model is overfitting on training dataset. Model achieved high accuracy and low loss in trainng set but performed poorly in validation set. "
      ]
    },
    {
      "cell_type": "markdown",
      "metadata": {
        "id": "kaxhbcFd-zG_",
        "colab_type": "text"
      },
      "source": [
        "**11. Try to improve the performance of your model using regularization methods. Try early stopping, a smaller (8 neurons per hidden layer) and a larger (256 neurons per hidden layer) network,\n",
        "L2 weight regularization (alpha=0.001), and dropout (p=0.1). Make sure to evaluate each model on the validation set, provide plots that help compare performance of alternative models, and \n",
        "interpret those plots. Eventually, pick one model as your final model. (40 pts)**"
      ]
    },
    {
      "cell_type": "markdown",
      "metadata": {
        "id": "IivnqCxROhiY",
        "colab_type": "text"
      },
      "source": [
        "#**Regularization methods**\n",
        "**a) Early Stopping**\n",
        "\n",
        "Since we saw no improvement in validation loss and validataion accuracy after epoch 7, I will be using only 7 epochs in early stopping approach."
      ]
    },
    {
      "cell_type": "code",
      "metadata": {
        "id": "0DuLT2ku2FcC",
        "colab_type": "code",
        "colab": {
          "base_uri": "https://localhost:8080/",
          "height": 275
        },
        "outputId": "6ccded9c-b89a-48b2-82c2-f1839dab8f03"
      },
      "source": [
        "model_ER = models.Sequential()\n",
        "model_ER.add(layers.Dense(64, activation='relu', input_shape = vectorized_train_data[0].shape))\n",
        "model_ER.add(layers.Dense(64, activation='relu'))\n",
        "model_ER.add(layers.Dense(46, activation='softmax'))\n",
        "\n",
        "model_ER.compile(optimizer='rmsprop',\n",
        "              loss='categorical_crossentropy',\n",
        "              metrics=['accuracy'])\n",
        "\n",
        "history_model_ER = model_ER.fit(partial_train_data,\n",
        "                            partial_train_labels,\n",
        "                            epochs=7,\n",
        "                            batch_size=512,\n",
        "                            validation_data=(val_data, val_labels))"
      ],
      "execution_count": 70,
      "outputs": [
        {
          "output_type": "stream",
          "text": [
            "Epoch 1/7\n",
            "16/16 [==============================] - 1s 54ms/step - loss: 2.7079 - accuracy: 0.5227 - val_loss: 1.7482 - val_accuracy: 0.6690\n",
            "Epoch 2/7\n",
            "16/16 [==============================] - 1s 46ms/step - loss: 1.4467 - accuracy: 0.7065 - val_loss: 1.2960 - val_accuracy: 0.7360\n",
            "Epoch 3/7\n",
            "16/16 [==============================] - 1s 45ms/step - loss: 1.0420 - accuracy: 0.7839 - val_loss: 1.0944 - val_accuracy: 0.7670\n",
            "Epoch 4/7\n",
            "16/16 [==============================] - 1s 44ms/step - loss: 0.8081 - accuracy: 0.8315 - val_loss: 1.0078 - val_accuracy: 0.7820\n",
            "Epoch 5/7\n",
            "16/16 [==============================] - 1s 46ms/step - loss: 0.6401 - accuracy: 0.8651 - val_loss: 0.9440 - val_accuracy: 0.7940\n",
            "Epoch 6/7\n",
            "16/16 [==============================] - 1s 47ms/step - loss: 0.5122 - accuracy: 0.8910 - val_loss: 0.9108 - val_accuracy: 0.7950\n",
            "Epoch 7/7\n",
            "16/16 [==============================] - 1s 46ms/step - loss: 0.4154 - accuracy: 0.9112 - val_loss: 0.8720 - val_accuracy: 0.8170\n"
          ],
          "name": "stdout"
        }
      ]
    },
    {
      "cell_type": "code",
      "metadata": {
        "id": "6Ud_AtgQQg98",
        "colab_type": "code",
        "colab": {
          "base_uri": "https://localhost:8080/",
          "height": 34
        },
        "outputId": "e1cd1a59-d745-4afd-daf0-e8937ed462f8"
      },
      "source": [
        "results = model_ER.evaluate(val_data, val_labels)\n",
        "\n"
      ],
      "execution_count": 67,
      "outputs": [
        {
          "output_type": "stream",
          "text": [
            "32/32 [==============================] - 0s 4ms/step - loss: 0.8980 - accuracy: 0.7970\n"
          ],
          "name": "stdout"
        }
      ]
    },
    {
      "cell_type": "markdown",
      "metadata": {
        "id": "Xl8AS41qRBFv",
        "colab_type": "text"
      },
      "source": [
        "**b) A smaller (8 neurons per hidden layer)**"
      ]
    },
    {
      "cell_type": "code",
      "metadata": {
        "id": "5U5Tu-NZRNzk",
        "colab_type": "code",
        "colab": {
          "base_uri": "https://localhost:8080/",
          "height": 717
        },
        "outputId": "053bbee2-a4ba-499b-9455-7c4f2709f056"
      },
      "source": [
        "\n",
        "model_SHL = models.Sequential()\n",
        "model_SHL.add(layers.Dense(8, activation='relu', input_shape = vectorized_train_data[0].shape))\n",
        "model_SHL.add(layers.Dense(8, activation='relu'))\n",
        "model_SHL.add(layers.Dense(46, activation='softmax'))\n",
        "\n",
        "model_SHL.compile(optimizer='rmsprop',\n",
        "              loss='categorical_crossentropy',\n",
        "              metrics=['accuracy'])\n",
        "\n",
        "history_model_SHL = model_SHL.fit(partial_train_data,\n",
        "                            partial_train_labels,\n",
        "                            epochs=20,\n",
        "                            batch_size=512,\n",
        "                            validation_data=(val_data, val_labels))"
      ],
      "execution_count": 71,
      "outputs": [
        {
          "output_type": "stream",
          "text": [
            "Epoch 1/20\n",
            "16/16 [==============================] - 1s 42ms/step - loss: 3.7932 - accuracy: 0.0430 - val_loss: 3.7216 - val_accuracy: 0.0560\n",
            "Epoch 2/20\n",
            "16/16 [==============================] - 1s 34ms/step - loss: 3.6379 - accuracy: 0.0515 - val_loss: 3.5266 - val_accuracy: 0.0570\n",
            "Epoch 3/20\n",
            "16/16 [==============================] - 0s 28ms/step - loss: 3.4153 - accuracy: 0.0549 - val_loss: 3.2839 - val_accuracy: 0.0630\n",
            "Epoch 4/20\n",
            "16/16 [==============================] - 0s 29ms/step - loss: 3.1480 - accuracy: 0.1931 - val_loss: 3.0026 - val_accuracy: 0.3740\n",
            "Epoch 5/20\n",
            "16/16 [==============================] - 0s 29ms/step - loss: 2.8424 - accuracy: 0.3716 - val_loss: 2.6882 - val_accuracy: 0.4280\n",
            "Epoch 6/20\n",
            "16/16 [==============================] - 0s 29ms/step - loss: 2.5122 - accuracy: 0.4448 - val_loss: 2.3676 - val_accuracy: 0.4760\n",
            "Epoch 7/20\n",
            "16/16 [==============================] - 0s 28ms/step - loss: 2.1927 - accuracy: 0.5264 - val_loss: 2.0791 - val_accuracy: 0.6570\n",
            "Epoch 8/20\n",
            "16/16 [==============================] - 0s 30ms/step - loss: 1.9224 - accuracy: 0.6533 - val_loss: 1.8635 - val_accuracy: 0.6390\n",
            "Epoch 9/20\n",
            "16/16 [==============================] - 0s 28ms/step - loss: 1.7188 - accuracy: 0.6542 - val_loss: 1.7041 - val_accuracy: 0.6510\n",
            "Epoch 10/20\n",
            "16/16 [==============================] - 0s 29ms/step - loss: 1.5708 - accuracy: 0.6615 - val_loss: 1.5984 - val_accuracy: 0.6560\n",
            "Epoch 11/20\n",
            "16/16 [==============================] - 0s 27ms/step - loss: 1.4588 - accuracy: 0.6713 - val_loss: 1.5203 - val_accuracy: 0.6570\n",
            "Epoch 12/20\n",
            "16/16 [==============================] - 0s 29ms/step - loss: 1.3697 - accuracy: 0.6780 - val_loss: 1.4599 - val_accuracy: 0.6640\n",
            "Epoch 13/20\n",
            "16/16 [==============================] - 0s 28ms/step - loss: 1.2980 - accuracy: 0.6858 - val_loss: 1.4225 - val_accuracy: 0.6580\n",
            "Epoch 14/20\n",
            "16/16 [==============================] - 0s 29ms/step - loss: 1.2371 - accuracy: 0.6924 - val_loss: 1.3844 - val_accuracy: 0.6650\n",
            "Epoch 15/20\n",
            "16/16 [==============================] - 0s 27ms/step - loss: 1.1839 - accuracy: 0.6999 - val_loss: 1.3581 - val_accuracy: 0.6720\n",
            "Epoch 16/20\n",
            "16/16 [==============================] - 0s 28ms/step - loss: 1.1355 - accuracy: 0.7066 - val_loss: 1.3369 - val_accuracy: 0.6760\n",
            "Epoch 17/20\n",
            "16/16 [==============================] - 0s 26ms/step - loss: 1.0912 - accuracy: 0.7186 - val_loss: 1.3153 - val_accuracy: 0.6800\n",
            "Epoch 18/20\n",
            "16/16 [==============================] - 0s 28ms/step - loss: 1.0500 - accuracy: 0.7280 - val_loss: 1.2957 - val_accuracy: 0.6840\n",
            "Epoch 19/20\n",
            "16/16 [==============================] - 0s 27ms/step - loss: 1.0113 - accuracy: 0.7403 - val_loss: 1.2807 - val_accuracy: 0.6910\n",
            "Epoch 20/20\n",
            "16/16 [==============================] - 0s 26ms/step - loss: 0.9743 - accuracy: 0.7522 - val_loss: 1.2665 - val_accuracy: 0.7040\n"
          ],
          "name": "stdout"
        }
      ]
    },
    {
      "cell_type": "code",
      "metadata": {
        "id": "JbK3ng-TWmCW",
        "colab_type": "code",
        "colab": {
          "base_uri": "https://localhost:8080/",
          "height": 34
        },
        "outputId": "ea9aff69-15a2-41e3-bc73-897a1ea2b179"
      },
      "source": [
        "results = model_SHL.evaluate(val_data, val_labels)\n",
        "\n"
      ],
      "execution_count": 86,
      "outputs": [
        {
          "output_type": "stream",
          "text": [
            "32/32 [==============================] - 0s 2ms/step - loss: 1.2665 - accuracy: 0.7040\n"
          ],
          "name": "stdout"
        }
      ]
    },
    {
      "cell_type": "markdown",
      "metadata": {
        "id": "Sv2cNMoVRtN1",
        "colab_type": "text"
      },
      "source": [
        "**c) A larger (256 neurons per hidden layer) network**"
      ]
    },
    {
      "cell_type": "code",
      "metadata": {
        "id": "r36-MfDKq7cQ",
        "colab_type": "code",
        "colab": {
          "base_uri": "https://localhost:8080/",
          "height": 717
        },
        "outputId": "55943497-6932-43e6-d8d5-43c64fcb0fb4"
      },
      "source": [
        "\n",
        "model_LHL = models.Sequential()\n",
        "model_LHL.add(layers.Dense(256, activation='relu', input_shape = vectorized_train_data[0].shape))\n",
        "model_LHL.add(layers.Dense(256, activation='relu'))\n",
        "model_LHL.add(layers.Dense(46, activation='softmax'))\n",
        "\n",
        "model_LHL.compile(optimizer='rmsprop',\n",
        "              loss='categorical_crossentropy',\n",
        "              metrics=['accuracy'])\n",
        "\n",
        "history_model_LHL = model_LHL.fit(partial_train_data,\n",
        "                            partial_train_labels,\n",
        "                            epochs=20,\n",
        "                            batch_size=512,\n",
        "                            validation_data=(val_data, val_labels))"
      ],
      "execution_count": 72,
      "outputs": [
        {
          "output_type": "stream",
          "text": [
            "Epoch 1/20\n",
            "16/16 [==============================] - 3s 213ms/step - loss: 1.9807 - accuracy: 0.5685 - val_loss: 1.2175 - val_accuracy: 0.7290\n",
            "Epoch 2/20\n",
            "16/16 [==============================] - 3s 181ms/step - loss: 0.9465 - accuracy: 0.7905 - val_loss: 0.9743 - val_accuracy: 0.7910\n",
            "Epoch 3/20\n",
            "16/16 [==============================] - 2s 156ms/step - loss: 0.6205 - accuracy: 0.8652 - val_loss: 0.8774 - val_accuracy: 0.8050\n",
            "Epoch 4/20\n",
            "16/16 [==============================] - 2s 144ms/step - loss: 0.4165 - accuracy: 0.9070 - val_loss: 0.8413 - val_accuracy: 0.8230\n",
            "Epoch 5/20\n",
            "16/16 [==============================] - 2s 143ms/step - loss: 0.3064 - accuracy: 0.9301 - val_loss: 0.8173 - val_accuracy: 0.8400\n",
            "Epoch 6/20\n",
            "16/16 [==============================] - 3s 171ms/step - loss: 0.2163 - accuracy: 0.9470 - val_loss: 0.8593 - val_accuracy: 0.8290\n",
            "Epoch 7/20\n",
            "16/16 [==============================] - 3s 165ms/step - loss: 0.1828 - accuracy: 0.9530 - val_loss: 0.8712 - val_accuracy: 0.8190\n",
            "Epoch 8/20\n",
            "16/16 [==============================] - 3s 159ms/step - loss: 0.1759 - accuracy: 0.9484 - val_loss: 0.9830 - val_accuracy: 0.7940\n",
            "Epoch 9/20\n",
            "16/16 [==============================] - 2s 127ms/step - loss: 0.1457 - accuracy: 0.9540 - val_loss: 0.9068 - val_accuracy: 0.8230\n",
            "Epoch 10/20\n",
            "16/16 [==============================] - 2s 127ms/step - loss: 0.1423 - accuracy: 0.9550 - val_loss: 0.9232 - val_accuracy: 0.8270\n",
            "Epoch 11/20\n",
            "16/16 [==============================] - 2s 127ms/step - loss: 0.1349 - accuracy: 0.9550 - val_loss: 0.9065 - val_accuracy: 0.8300\n",
            "Epoch 12/20\n",
            "16/16 [==============================] - 2s 125ms/step - loss: 0.1267 - accuracy: 0.9568 - val_loss: 0.9783 - val_accuracy: 0.8110\n",
            "Epoch 13/20\n",
            "16/16 [==============================] - 2s 126ms/step - loss: 0.1183 - accuracy: 0.9569 - val_loss: 0.9298 - val_accuracy: 0.8180\n",
            "Epoch 14/20\n",
            "16/16 [==============================] - 2s 129ms/step - loss: 0.1142 - accuracy: 0.9584 - val_loss: 1.0273 - val_accuracy: 0.8060\n",
            "Epoch 15/20\n",
            "16/16 [==============================] - 2s 125ms/step - loss: 0.1105 - accuracy: 0.9563 - val_loss: 0.9818 - val_accuracy: 0.8150\n",
            "Epoch 16/20\n",
            "16/16 [==============================] - 2s 131ms/step - loss: 0.1033 - accuracy: 0.9559 - val_loss: 1.0461 - val_accuracy: 0.8110\n",
            "Epoch 17/20\n",
            "16/16 [==============================] - 2s 130ms/step - loss: 0.1023 - accuracy: 0.9559 - val_loss: 1.0003 - val_accuracy: 0.8160\n",
            "Epoch 18/20\n",
            "16/16 [==============================] - 2s 125ms/step - loss: 0.0970 - accuracy: 0.9580 - val_loss: 0.9960 - val_accuracy: 0.8330\n",
            "Epoch 19/20\n",
            "16/16 [==============================] - 2s 128ms/step - loss: 0.0954 - accuracy: 0.9569 - val_loss: 1.0316 - val_accuracy: 0.8220\n",
            "Epoch 20/20\n",
            "16/16 [==============================] - 2s 128ms/step - loss: 0.0940 - accuracy: 0.9574 - val_loss: 1.0261 - val_accuracy: 0.8160\n"
          ],
          "name": "stdout"
        }
      ]
    },
    {
      "cell_type": "code",
      "metadata": {
        "id": "H7u42qthWqzD",
        "colab_type": "code",
        "colab": {
          "base_uri": "https://localhost:8080/",
          "height": 34
        },
        "outputId": "de71971e-eb61-45d3-dd04-1e6dcdd2cd42"
      },
      "source": [
        "results = model_LHL.evaluate(val_data, val_labels)\n",
        "\n"
      ],
      "execution_count": 87,
      "outputs": [
        {
          "output_type": "stream",
          "text": [
            "32/32 [==============================] - 0s 6ms/step - loss: 1.0261 - accuracy: 0.8160\n"
          ],
          "name": "stdout"
        }
      ]
    },
    {
      "cell_type": "markdown",
      "metadata": {
        "id": "I3rL71MwTEOE",
        "colab_type": "text"
      },
      "source": [
        "**d) L2 weight regularization (alpha=0.001)**"
      ]
    },
    {
      "cell_type": "code",
      "metadata": {
        "id": "3DBiTZvsrVYW",
        "colab_type": "code",
        "colab": {
          "base_uri": "https://localhost:8080/",
          "height": 717
        },
        "outputId": "e0b8c98d-0e14-49e5-d813-a044c4215ab2"
      },
      "source": [
        "model_L2 = models.Sequential()\n",
        "model_L2.add(layers.Dense(64, kernel_regularizer=regularizers.l2(0.001), activation='relu', input_shape = vectorized_train_data[0].shape))\n",
        "model_L2.add(layers.Dense(64, kernel_regularizer=regularizers.l2(0.001), activation='relu'))\n",
        "model_L2.add(layers.Dense(46, activation='softmax'))\n",
        "\n",
        "model_L2.compile(optimizer='rmsprop',\n",
        "              loss='categorical_crossentropy',\n",
        "              metrics=['accuracy'])\n",
        "\n",
        "history_model_L2 = model_L2.fit(partial_train_data,\n",
        "                            partial_train_labels,\n",
        "                            epochs=20,\n",
        "                            batch_size=512,\n",
        "                            validation_data=(val_data, val_labels))"
      ],
      "execution_count": 73,
      "outputs": [
        {
          "output_type": "stream",
          "text": [
            "Epoch 1/20\n",
            "16/16 [==============================] - 1s 57ms/step - loss: 2.7765 - accuracy: 0.4892 - val_loss: 1.8692 - val_accuracy: 0.6650\n",
            "Epoch 2/20\n",
            "16/16 [==============================] - 1s 50ms/step - loss: 1.5959 - accuracy: 0.6966 - val_loss: 1.4546 - val_accuracy: 0.7210\n",
            "Epoch 3/20\n",
            "16/16 [==============================] - 1s 47ms/step - loss: 1.2491 - accuracy: 0.7680 - val_loss: 1.3254 - val_accuracy: 0.7390\n",
            "Epoch 4/20\n",
            "16/16 [==============================] - 1s 49ms/step - loss: 1.0565 - accuracy: 0.8113 - val_loss: 1.2316 - val_accuracy: 0.7680\n",
            "Epoch 5/20\n",
            "16/16 [==============================] - 1s 52ms/step - loss: 0.9205 - accuracy: 0.8400 - val_loss: 1.1651 - val_accuracy: 0.7890\n",
            "Epoch 6/20\n",
            "16/16 [==============================] - 1s 51ms/step - loss: 0.8242 - accuracy: 0.8647 - val_loss: 1.1431 - val_accuracy: 0.7820\n",
            "Epoch 7/20\n",
            "16/16 [==============================] - 1s 51ms/step - loss: 0.7443 - accuracy: 0.8844 - val_loss: 1.1097 - val_accuracy: 0.8010\n",
            "Epoch 8/20\n",
            "16/16 [==============================] - 1s 48ms/step - loss: 0.6877 - accuracy: 0.8975 - val_loss: 1.0746 - val_accuracy: 0.8080\n",
            "Epoch 9/20\n",
            "16/16 [==============================] - 1s 50ms/step - loss: 0.6336 - accuracy: 0.9127 - val_loss: 1.1119 - val_accuracy: 0.7970\n",
            "Epoch 10/20\n",
            "16/16 [==============================] - 1s 49ms/step - loss: 0.6010 - accuracy: 0.9178 - val_loss: 1.0892 - val_accuracy: 0.8020\n",
            "Epoch 11/20\n",
            "16/16 [==============================] - 1s 52ms/step - loss: 0.5686 - accuracy: 0.9266 - val_loss: 1.1201 - val_accuracy: 0.7930\n",
            "Epoch 12/20\n",
            "16/16 [==============================] - 1s 48ms/step - loss: 0.5420 - accuracy: 0.9359 - val_loss: 1.0598 - val_accuracy: 0.8170\n",
            "Epoch 13/20\n",
            "16/16 [==============================] - 1s 48ms/step - loss: 0.5176 - accuracy: 0.9377 - val_loss: 1.0526 - val_accuracy: 0.8230\n",
            "Epoch 14/20\n",
            "16/16 [==============================] - 1s 47ms/step - loss: 0.4974 - accuracy: 0.9405 - val_loss: 1.0587 - val_accuracy: 0.8250\n",
            "Epoch 15/20\n",
            "16/16 [==============================] - 1s 47ms/step - loss: 0.4900 - accuracy: 0.9422 - val_loss: 1.0608 - val_accuracy: 0.8210\n",
            "Epoch 16/20\n",
            "16/16 [==============================] - 1s 47ms/step - loss: 0.4686 - accuracy: 0.9463 - val_loss: 1.0491 - val_accuracy: 0.8210\n",
            "Epoch 17/20\n",
            "16/16 [==============================] - 1s 47ms/step - loss: 0.4631 - accuracy: 0.9465 - val_loss: 1.0908 - val_accuracy: 0.8150\n",
            "Epoch 18/20\n",
            "16/16 [==============================] - 1s 48ms/step - loss: 0.4562 - accuracy: 0.9495 - val_loss: 1.0437 - val_accuracy: 0.8270\n",
            "Epoch 19/20\n",
            "16/16 [==============================] - 1s 47ms/step - loss: 0.4415 - accuracy: 0.9510 - val_loss: 1.0618 - val_accuracy: 0.8170\n",
            "Epoch 20/20\n",
            "16/16 [==============================] - 1s 46ms/step - loss: 0.4398 - accuracy: 0.9496 - val_loss: 1.0569 - val_accuracy: 0.8200\n"
          ],
          "name": "stdout"
        }
      ]
    },
    {
      "cell_type": "code",
      "metadata": {
        "id": "XKgtVEYgWte6",
        "colab_type": "code",
        "colab": {
          "base_uri": "https://localhost:8080/",
          "height": 34
        },
        "outputId": "e1c3aff6-05a2-462f-e918-f3b7365dca05"
      },
      "source": [
        "results = model_L2.evaluate(val_data, val_labels)"
      ],
      "execution_count": 88,
      "outputs": [
        {
          "output_type": "stream",
          "text": [
            "32/32 [==============================] - 0s 4ms/step - loss: 1.0569 - accuracy: 0.8200\n"
          ],
          "name": "stdout"
        }
      ]
    },
    {
      "cell_type": "markdown",
      "metadata": {
        "id": "yAxjTIAuTKW0",
        "colab_type": "text"
      },
      "source": [
        "**e) Dropout (p=0.1)**"
      ]
    },
    {
      "cell_type": "code",
      "metadata": {
        "id": "AnK2UyRtslLp",
        "colab_type": "code",
        "colab": {
          "base_uri": "https://localhost:8080/",
          "height": 717
        },
        "outputId": "9ab9fbd6-c224-4fdd-ff3c-7dd6f0ab9727"
      },
      "source": [
        "model_drop = models.Sequential()\n",
        "model_drop.add(layers.Dense(64, activation='relu', input_shape = vectorized_train_data[0].shape))\n",
        "model_drop.add(layers.Dropout(0.1))\n",
        "model_drop.add(layers.Dense(64, activation='relu'))\n",
        "model_drop.add(layers.Dropout(0.1))\n",
        "model_drop.add(layers.Dense(46, activation='softmax'))\n",
        "\n",
        "model_drop.compile(optimizer='rmsprop',\n",
        "              loss='categorical_crossentropy',\n",
        "              metrics=['accuracy'])\n",
        "\n",
        "history_model_drop = model_drop.fit(partial_train_data,\n",
        "                            partial_train_labels,\n",
        "                            epochs=20,\n",
        "                            batch_size=512,\n",
        "                            validation_data=(val_data, val_labels))"
      ],
      "execution_count": 74,
      "outputs": [
        {
          "output_type": "stream",
          "text": [
            "Epoch 1/20\n",
            "16/16 [==============================] - 1s 54ms/step - loss: 2.7111 - accuracy: 0.4615 - val_loss: 1.7481 - val_accuracy: 0.6570\n",
            "Epoch 2/20\n",
            "16/16 [==============================] - 1s 48ms/step - loss: 1.5505 - accuracy: 0.6744 - val_loss: 1.3075 - val_accuracy: 0.7250\n",
            "Epoch 3/20\n",
            "16/16 [==============================] - 1s 48ms/step - loss: 1.1709 - accuracy: 0.7428 - val_loss: 1.1654 - val_accuracy: 0.7350\n",
            "Epoch 4/20\n",
            "16/16 [==============================] - 1s 50ms/step - loss: 0.9535 - accuracy: 0.7910 - val_loss: 1.0548 - val_accuracy: 0.7620\n",
            "Epoch 5/20\n",
            "16/16 [==============================] - 1s 51ms/step - loss: 0.7812 - accuracy: 0.8262 - val_loss: 0.9764 - val_accuracy: 0.7880\n",
            "Epoch 6/20\n",
            "16/16 [==============================] - 1s 50ms/step - loss: 0.6503 - accuracy: 0.8549 - val_loss: 0.9356 - val_accuracy: 0.7980\n",
            "Epoch 7/20\n",
            "16/16 [==============================] - 1s 46ms/step - loss: 0.5496 - accuracy: 0.8785 - val_loss: 0.9122 - val_accuracy: 0.7970\n",
            "Epoch 8/20\n",
            "16/16 [==============================] - 1s 50ms/step - loss: 0.4683 - accuracy: 0.8991 - val_loss: 0.8722 - val_accuracy: 0.8130\n",
            "Epoch 9/20\n",
            "16/16 [==============================] - 1s 50ms/step - loss: 0.3975 - accuracy: 0.9129 - val_loss: 0.8909 - val_accuracy: 0.8160\n",
            "Epoch 10/20\n",
            "16/16 [==============================] - 1s 47ms/step - loss: 0.3463 - accuracy: 0.9225 - val_loss: 0.8672 - val_accuracy: 0.8210\n",
            "Epoch 11/20\n",
            "16/16 [==============================] - 1s 47ms/step - loss: 0.2952 - accuracy: 0.9360 - val_loss: 0.8740 - val_accuracy: 0.8170\n",
            "Epoch 12/20\n",
            "16/16 [==============================] - 1s 47ms/step - loss: 0.2642 - accuracy: 0.9402 - val_loss: 0.8914 - val_accuracy: 0.8240\n",
            "Epoch 13/20\n",
            "16/16 [==============================] - 1s 46ms/step - loss: 0.2331 - accuracy: 0.9431 - val_loss: 0.9070 - val_accuracy: 0.8200\n",
            "Epoch 14/20\n",
            "16/16 [==============================] - 1s 49ms/step - loss: 0.2086 - accuracy: 0.9490 - val_loss: 0.9037 - val_accuracy: 0.8240\n",
            "Epoch 15/20\n",
            "16/16 [==============================] - 1s 51ms/step - loss: 0.1942 - accuracy: 0.9500 - val_loss: 0.9244 - val_accuracy: 0.8200\n",
            "Epoch 16/20\n",
            "16/16 [==============================] - 1s 49ms/step - loss: 0.1788 - accuracy: 0.9505 - val_loss: 0.9380 - val_accuracy: 0.8170\n",
            "Epoch 17/20\n",
            "16/16 [==============================] - 1s 48ms/step - loss: 0.1667 - accuracy: 0.9550 - val_loss: 0.9493 - val_accuracy: 0.8260\n",
            "Epoch 18/20\n",
            "16/16 [==============================] - 1s 50ms/step - loss: 0.1570 - accuracy: 0.9549 - val_loss: 0.9564 - val_accuracy: 0.8180\n",
            "Epoch 19/20\n",
            "16/16 [==============================] - 1s 50ms/step - loss: 0.1442 - accuracy: 0.9583 - val_loss: 0.9546 - val_accuracy: 0.8250\n",
            "Epoch 20/20\n",
            "16/16 [==============================] - 1s 52ms/step - loss: 0.1339 - accuracy: 0.9598 - val_loss: 1.0258 - val_accuracy: 0.8100\n"
          ],
          "name": "stdout"
        }
      ]
    },
    {
      "cell_type": "code",
      "metadata": {
        "id": "6-EUztsNWw5D",
        "colab_type": "code",
        "colab": {
          "base_uri": "https://localhost:8080/",
          "height": 34
        },
        "outputId": "7ca4b1f5-f4fa-427b-9a17-cf7a1ad8422c"
      },
      "source": [
        "results = model_drop.evaluate(val_data, val_labels)"
      ],
      "execution_count": 89,
      "outputs": [
        {
          "output_type": "stream",
          "text": [
            "32/32 [==============================] - 0s 3ms/step - loss: 1.0258 - accuracy: 0.8100\n"
          ],
          "name": "stdout"
        }
      ]
    },
    {
      "cell_type": "code",
      "metadata": {
        "id": "7en6lu_iT3QE",
        "colab_type": "code",
        "colab": {
          "base_uri": "https://localhost:8080/",
          "height": 302
        },
        "outputId": "fe582712-d10e-48a9-c5d2-b8ce3474a2d9"
      },
      "source": [
        "val_ER_acc  = history_model_ER.history['val_accuracy']\n",
        "val_SHL_acc = history_model_SHL.history['val_accuracy']\n",
        "val_LHL_acc = history_model_LHL.history['val_accuracy']\n",
        "val_L2_acc = history_model_L2.history['val_accuracy']\n",
        "val_drop_acc = history_model_drop.history['val_accuracy']\n",
        "\n",
        "epochs = range(1, len(val_acc1) + 1)\n",
        "\n",
        "plt.plot(epochs, val_acc1, label = 'Original model')\n",
        "plt.plot(epochs, val_ER_acc + [0,0,0,0,0,0,0,0,0,0,0,0,0], label = 'Early Stopping model')\n",
        "plt.plot(epochs, val_SHL_acc, label = 'Small Hiddel layer model')\n",
        "plt.plot(epochs, val_LHL_acc, label = 'Large Hidden layer model')\n",
        "plt.plot(epochs, val_L2_acc, label = 'L2 model')\n",
        "plt.plot(epochs, val_drop_acc, label = 'Dropout model')\n",
        "plt.xlabel('Epochs')\n",
        "plt.ylabel('Accuracy')\n",
        "plt.legend()\n",
        "\n"
      ],
      "execution_count": 109,
      "outputs": [
        {
          "output_type": "execute_result",
          "data": {
            "text/plain": [
              "<matplotlib.legend.Legend at 0x7fb1233b25f8>"
            ]
          },
          "metadata": {
            "tags": []
          },
          "execution_count": 109
        },
        {
          "output_type": "display_data",
          "data": {
            "image/png": "[encoded data removed]",
            "text/plain": [
              "<Figure size 432x288 with 1 Axes>"
            ]
          },
          "metadata": {
            "tags": []
          }
        }
      ]
    },
    {
      "cell_type": "code",
      "metadata": {
        "id": "g93zyr1QW5I9",
        "colab_type": "code",
        "colab": {
          "base_uri": "https://localhost:8080/",
          "height": 302
        },
        "outputId": "8a2d8091-76c8-4520-e584-b9a6dde07e37"
      },
      "source": [
        "val_ER_loss  = history_model_ER.history['val_loss']\n",
        "val_SHL_loss = history_model_SHL.history['val_loss']\n",
        "val_LHL_loss = history_model_LHL.history['val_loss']\n",
        "val_L2_loss = history_model_L2.history['val_loss']\n",
        "val_drop_loss = history_model_drop.history['val_loss']\n",
        "\n",
        "epochs = range(1, len(val_loss1) + 1)\n",
        "\n",
        "plt.plot(epochs, val_loss1, label = 'Original model')\n",
        "plt.plot(epochs, val_ER_loss + [0,0,0,0,0,0,0,0,0,0,0,0,0], label = 'Early Stopping model')\n",
        "plt.plot(epochs, val_SHL_loss, label = 'Small Hiddel layer model')\n",
        "plt.plot(epochs, val_LHL_loss, label = 'Large Hidden layer model')\n",
        "plt.plot(epochs, val_L2_loss, label = 'L2 model')\n",
        "plt.plot(epochs, val_drop_loss, label = 'Dropout model')\n",
        "plt.xlabel('Epochs')\n",
        "plt.ylabel('Loss')\n",
        "plt.legend()\n",
        "\n"
      ],
      "execution_count": 110,
      "outputs": [
        {
          "output_type": "execute_result",
          "data": {
            "text/plain": [
              "<matplotlib.legend.Legend at 0x7fb1236d0a90>"
            ]
          },
          "metadata": {
            "tags": []
          },
          "execution_count": 110
        },
        {
          "output_type": "display_data",
          "data": {
            "image/png": "[encoded data removed]",
            "text/plain": [
              "<Figure size 432x288 with 1 Axes>"
            ]
          },
          "metadata": {
            "tags": []
          }
        }
      ]
    },
    {
      "cell_type": "markdown",
      "metadata": {
        "id": "17SSXyppXbIJ",
        "colab_type": "text"
      },
      "source": [
        "Additional 13 zeros were introduced for Early stopping model to make sure array sized were same for all models. Ploting for model with Early stopping separately below"
      ]
    },
    {
      "cell_type": "code",
      "metadata": {
        "id": "PBNoAmchXo39",
        "colab_type": "code",
        "colab": {
          "base_uri": "https://localhost:8080/",
          "height": 302
        },
        "outputId": "2eb6fe3e-4717-4928-efde-8ebbc40868b2"
      },
      "source": [
        "epochs = range(1, len(val_ER_acc) + 1)\n",
        "plt.plot(epochs, val_ER_acc, label = 'Early Stopping model')\n",
        "plt.xlabel('Epochs')\n",
        "plt.ylabel('Accuracy')\n",
        "plt.legend()\n"
      ],
      "execution_count": 97,
      "outputs": [
        {
          "output_type": "execute_result",
          "data": {
            "text/plain": [
              "<matplotlib.legend.Legend at 0x7fb115342be0>"
            ]
          },
          "metadata": {
            "tags": []
          },
          "execution_count": 97
        },
        {
          "output_type": "display_data",
          "data": {
            "image/png": "[encoded data removed]",
            "text/plain": [
              "<Figure size 432x288 with 1 Axes>"
            ]
          },
          "metadata": {
            "tags": []
          }
        }
      ]
    },
    {
      "cell_type": "code",
      "metadata": {
        "id": "P_-X5bUfX-IY",
        "colab_type": "code",
        "colab": {
          "base_uri": "https://localhost:8080/",
          "height": 302
        },
        "outputId": "bddc921f-e583-47d8-d891-9f26bbb9f4d8"
      },
      "source": [
        "epochs = range(1, len(val_ER_acc) + 1)\n",
        "plt.plot(epochs, val_ER_loss, label = 'Early Stopping model')\n",
        "plt.xlabel('Epochs')\n",
        "plt.ylabel('Loss')\n",
        "plt.legend()\n"
      ],
      "execution_count": 96,
      "outputs": [
        {
          "output_type": "execute_result",
          "data": {
            "text/plain": [
              "<matplotlib.legend.Legend at 0x7fb1329fee80>"
            ]
          },
          "metadata": {
            "tags": []
          },
          "execution_count": 96
        },
        {
          "output_type": "display_data",
          "data": {
            "image/png": "[encoded data removed]",
            "text/plain": [
              "<Figure size 432x288 with 1 Axes>"
            ]
          },
          "metadata": {
            "tags": []
          }
        }
      ]
    },
    {
      "cell_type": "markdown",
      "metadata": {
        "id": "RwW5puXEYKvx",
        "colab_type": "text"
      },
      "source": [
        "From graph, it is obvious that Small hidden layer performs worst. So, plotting graph again without data regarding small hidden layer"
      ]
    },
    {
      "cell_type": "code",
      "metadata": {
        "id": "dtBdn7GqYlJ5",
        "colab_type": "code",
        "colab": {
          "base_uri": "https://localhost:8080/",
          "height": 302
        },
        "outputId": "2b5e09d0-2f73-49f9-f236-95705c69d7df"
      },
      "source": [
        "epochs = range(1, len(val_acc1) + 1)\n",
        "\n",
        "plt.plot(epochs, val_acc1, label = 'Original model')\n",
        "#plt.plot(epochs, val_ER_acc, label = 'Early Stopping model')\n",
        "plt.plot(epochs, val_LHL_acc, label = 'Large Hidden layer model')\n",
        "plt.plot(epochs, val_L2_acc, label = 'L2 model')\n",
        "plt.plot(epochs, val_drop_acc, label = 'Dropout model')\n",
        "plt.xlabel('Epochs')\n",
        "plt.ylabel('Accuracy')\n",
        "plt.legend()\n"
      ],
      "execution_count": 113,
      "outputs": [
        {
          "output_type": "execute_result",
          "data": {
            "text/plain": [
              "<matplotlib.legend.Legend at 0x7fb11284d240>"
            ]
          },
          "metadata": {
            "tags": []
          },
          "execution_count": 113
        },
        {
          "output_type": "display_data",
          "data": {
            "image/png": "[encoded data removed]",
            "text/plain": [
              "<Figure size 432x288 with 1 Axes>"
            ]
          },
          "metadata": {
            "tags": []
          }
        }
      ]
    },
    {
      "cell_type": "code",
      "metadata": {
        "id": "ZgkE8PkzYs_h",
        "colab_type": "code",
        "colab": {
          "base_uri": "https://localhost:8080/",
          "height": 302
        },
        "outputId": "de0e10c7-9698-42b4-982f-8f4d7be9fc65"
      },
      "source": [
        "epochs = range(1, len(val_loss1) + 1)\n",
        "\n",
        "plt.plot(epochs, val_loss1, label = 'Original model')\n",
        "#plt.plot(epochs, val_ER_loss, label = 'Early Stopping model')\n",
        "plt.plot(epochs, val_LHL_loss, label = 'Large Hidden layer model')\n",
        "plt.plot(epochs, val_L2_loss, label = 'L2 model')\n",
        "plt.plot(epochs, val_drop_loss, label = 'Dropout model')\n",
        "plt.xlabel('Epochs')\n",
        "plt.ylabel('Loss')\n",
        "plt.legend()\n"
      ],
      "execution_count": 107,
      "outputs": [
        {
          "output_type": "execute_result",
          "data": {
            "text/plain": [
              "<matplotlib.legend.Legend at 0x7fb1234a5a90>"
            ]
          },
          "metadata": {
            "tags": []
          },
          "execution_count": 107
        },
        {
          "output_type": "display_data",
          "data": {
            "image/png": "[encoded data removed]",
            "text/plain": [
              "<Figure size 432x288 with 1 Axes>"
            ]
          },
          "metadata": {
            "tags": []
          }
        }
      ]
    },
    {
      "cell_type": "markdown",
      "metadata": {
        "id": "6kuV6WcSZE2x",
        "colab_type": "text"
      },
      "source": [
        "So, out of orginal model, Large hidden layer model, L2 model and dropout model, it looks like having large hidden layer performs better. It accuracy reaches maximum around epoch 5, and also has low loss score around same epoch. However this model also seem to suffer from over fitting. Accuracy drops as number of epochs gets large. Similary loss score gradually increase after epoch 5. Now the question is if this model performs better than Early stopping model. "
      ]
    },
    {
      "cell_type": "code",
      "metadata": {
        "id": "cXLjsQBxbks5",
        "colab_type": "code",
        "colab": {
          "base_uri": "https://localhost:8080/",
          "height": 302
        },
        "outputId": "3bc11c56-e319-4559-ce7a-3d3171d051cf"
      },
      "source": [
        "epochs = range(1, len(val_acc1) + 1)\n",
        "\n",
        "plt.plot(epochs, val_ER_acc+ [0,0,0,0,0,0,0,0,0,0,0,0,0], label = 'Early Stopping model')\n",
        "plt.plot(epochs, val_LHL_acc, label = 'Large Hidden layer model')\n",
        "plt.xlabel('Epochs')\n",
        "plt.ylabel('Accuracy')\n",
        "plt.legend()\n"
      ],
      "execution_count": 105,
      "outputs": [
        {
          "output_type": "execute_result",
          "data": {
            "text/plain": [
              "<matplotlib.legend.Legend at 0x7fb1235b0d30>"
            ]
          },
          "metadata": {
            "tags": []
          },
          "execution_count": 105
        },
        {
          "output_type": "display_data",
          "data": {
            "image/png": "[encoded data removed]",
            "text/plain": [
              "<Figure size 432x288 with 1 Axes>"
            ]
          },
          "metadata": {
            "tags": []
          }
        }
      ]
    },
    {
      "cell_type": "code",
      "metadata": {
        "id": "-X_I02GQa-6A",
        "colab_type": "code",
        "colab": {
          "base_uri": "https://localhost:8080/",
          "height": 302
        },
        "outputId": "5fe033d8-46f4-4ae8-f25c-af8dcdc05ff6"
      },
      "source": [
        "epochs = range(1, len(val_loss1) + 1)\n",
        "\n",
        "plt.plot(epochs, val_ER_loss + [0,0,0,0,0,0,0,0,0,0,0,0,0], label = 'Early Stopping model')\n",
        "plt.plot(epochs, val_LHL_loss, label = 'Large Hidden layer model')\n",
        "plt.xlabel('Epochs')\n",
        "plt.ylabel('Loss')\n",
        "plt.legend()\n"
      ],
      "execution_count": 104,
      "outputs": [
        {
          "output_type": "execute_result",
          "data": {
            "text/plain": [
              "<matplotlib.legend.Legend at 0x7fb1153917f0>"
            ]
          },
          "metadata": {
            "tags": []
          },
          "execution_count": 104
        },
        {
          "output_type": "display_data",
          "data": {
            "image/png": "[encoded data removed]",
            "text/plain": [
              "<Figure size 432x288 with 1 Axes>"
            ]
          },
          "metadata": {
            "tags": []
          }
        }
      ]
    },
    {
      "cell_type": "markdown",
      "metadata": {
        "id": "eD0kA2KUdlMe",
        "colab_type": "text"
      },
      "source": [
        "Here comparing Large hidden layer method and early stopping method, it seems that large hidden layer is still better. So, I will use large hidden layer as my final model."
      ]
    },
    {
      "cell_type": "markdown",
      "metadata": {
        "id": "nzvsmXhf_A2-",
        "colab_type": "text"
      },
      "source": [
        "**12. Evaluate your final model on the test set and report the test accuracy. How does it compare to the test accuracy you obtained from your first model in Step 8? (5 pts)**"
      ]
    },
    {
      "cell_type": "code",
      "metadata": {
        "id": "rjCLHz8VeVeW",
        "colab_type": "code",
        "colab": {
          "base_uri": "https://localhost:8080/",
          "height": 34
        },
        "outputId": "862ddbbc-03ac-42ea-8556-7ce7586c9e10"
      },
      "source": [
        "results = model_LHL.evaluate(vectorized_test_data, vectorized_test_labels)\n"
      ],
      "execution_count": 115,
      "outputs": [
        {
          "output_type": "stream",
          "text": [
            "71/71 [==============================] - 0s 7ms/step - loss: 1.2643 - accuracy: 0.7939\n"
          ],
          "name": "stdout"
        }
      ]
    },
    {
      "cell_type": "markdown",
      "metadata": {
        "id": "HCZ-rk-QfHUT",
        "colab_type": "text"
      },
      "source": [
        "Model with large hidden layer performed slightly better than orinial model. Accuracy imporved to 79.39%. Before, with original model it was 78.5%."
      ]
    },
    {
      "cell_type": "markdown",
      "metadata": {
        "id": "dxoAf3uNgiBZ",
        "colab_type": "text"
      },
      "source": [
        "Since it wasn't much of an improvement, I wonder if combining large hidden layer method with early stopping method would be better. "
      ]
    },
    {
      "cell_type": "code",
      "metadata": {
        "id": "A4fE2ukiddgB",
        "colab_type": "code",
        "colab": {
          "base_uri": "https://localhost:8080/",
          "height": 275
        },
        "outputId": "8d6af4c8-522b-4f3e-b14f-f2a5fa2c969f"
      },
      "source": [
        "\n",
        "model_LHL_ES = models.Sequential()\n",
        "model_LHL_ES.add(layers.Dense(256, activation='relu', input_shape = vectorized_train_data[0].shape))\n",
        "model_LHL_ES.add(layers.Dense(256, activation='relu'))\n",
        "model_LHL_ES.add(layers.Dense(46, activation='softmax'))\n",
        "\n",
        "model_LHL_ES.compile(optimizer='rmsprop',\n",
        "              loss='categorical_crossentropy',\n",
        "              metrics=['accuracy'])\n",
        "\n",
        "history_model_LHL_ES = model_LHL_ES.fit(partial_train_data,\n",
        "                            partial_train_labels,\n",
        "                            epochs=7,\n",
        "                            batch_size=512,\n",
        "                            validation_data=(val_data, val_labels))"
      ],
      "execution_count": 120,
      "outputs": [
        {
          "output_type": "stream",
          "text": [
            "Epoch 1/7\n",
            "16/16 [==============================] - 2s 136ms/step - loss: 1.9271 - accuracy: 0.5918 - val_loss: 1.1951 - val_accuracy: 0.7320\n",
            "Epoch 2/7\n",
            "16/16 [==============================] - 2s 128ms/step - loss: 0.9463 - accuracy: 0.7888 - val_loss: 0.9960 - val_accuracy: 0.7800\n",
            "Epoch 3/7\n",
            "16/16 [==============================] - 2s 124ms/step - loss: 0.6069 - accuracy: 0.8661 - val_loss: 0.8947 - val_accuracy: 0.8030\n",
            "Epoch 4/7\n",
            "16/16 [==============================] - 2s 123ms/step - loss: 0.4023 - accuracy: 0.9119 - val_loss: 1.0923 - val_accuracy: 0.7370\n",
            "Epoch 5/7\n",
            "16/16 [==============================] - 2s 123ms/step - loss: 0.2835 - accuracy: 0.9345 - val_loss: 0.9079 - val_accuracy: 0.8160\n",
            "Epoch 6/7\n",
            "16/16 [==============================] - 2s 127ms/step - loss: 0.2107 - accuracy: 0.9485 - val_loss: 0.9755 - val_accuracy: 0.7990\n",
            "Epoch 7/7\n",
            "16/16 [==============================] - 2s 126ms/step - loss: 0.1773 - accuracy: 0.9516 - val_loss: 0.9201 - val_accuracy: 0.8170\n"
          ],
          "name": "stdout"
        }
      ]
    },
    {
      "cell_type": "code",
      "metadata": {
        "id": "wOQuJgdghO4I",
        "colab_type": "code",
        "colab": {
          "base_uri": "https://localhost:8080/",
          "height": 34
        },
        "outputId": "6e738b9f-f075-4e81-b691-2ffe02d1efc5"
      },
      "source": [
        "results = model_LHL_ES.evaluate(vectorized_test_data, vectorized_test_labels)"
      ],
      "execution_count": 121,
      "outputs": [
        {
          "output_type": "stream",
          "text": [
            "71/71 [==============================] - 0s 6ms/step - loss: 1.0423 - accuracy: 0.7845\n"
          ],
          "name": "stdout"
        }
      ]
    },
    {
      "cell_type": "markdown",
      "metadata": {
        "id": "nxUmAvjEhXJu",
        "colab_type": "text"
      },
      "source": [
        "Surprisingly, it is worse. "
      ]
    },
    {
      "cell_type": "code",
      "metadata": {
        "id": "9rHDR1Z32IqC",
        "colab_type": "code",
        "colab": {
          "base_uri": "https://localhost:8080/",
          "height": 136
        },
        "outputId": "01ef4399-ec39-470d-f616-438ce1b11fc4"
      },
      "source": [
        "results = model1.evaluate(vectorized_test_data, vectorized_test_labels)\n",
        "results = model_ER.evaluate(vectorized_test_data, vectorized_test_labels)\n",
        "results = model_SHL.evaluate(vectorized_test_data, vectorized_test_labels)\n",
        "results = model_LHL.evaluate(vectorized_test_data, vectorized_test_labels)\n",
        "results = model_L2.evaluate(vectorized_test_data, vectorized_test_labels)\n",
        "results = model_drop.evaluate(vectorized_test_data, vectorized_test_labels)\n",
        "results = model_LHL_ES.evaluate(vectorized_test_data, vectorized_test_labels)\n",
        "\n"
      ],
      "execution_count": 122,
      "outputs": [
        {
          "output_type": "stream",
          "text": [
            "71/71 [==============================] - 0s 3ms/step - loss: 1.2189 - accuracy: 0.7850\n",
            "71/71 [==============================] - 0s 3ms/step - loss: 0.9421 - accuracy: 0.7854\n",
            "71/71 [==============================] - 0s 2ms/step - loss: 1.3199 - accuracy: 0.6861\n",
            "71/71 [==============================] - 0s 7ms/step - loss: 1.2643 - accuracy: 0.7939\n",
            "71/71 [==============================] - 0s 4ms/step - loss: 1.1651 - accuracy: 0.7961\n",
            "71/71 [==============================] - 0s 3ms/step - loss: 1.1860 - accuracy: 0.7916\n",
            "71/71 [==============================] - 0s 7ms/step - loss: 1.0423 - accuracy: 0.7845\n"
          ],
          "name": "stdout"
        }
      ]
    },
    {
      "cell_type": "code",
      "metadata": {
        "id": "CKDX8ERZfqJY",
        "colab_type": "code",
        "colab": {}
      },
      "source": [
        ""
      ],
      "execution_count": null,
      "outputs": []
    }
  ]
}